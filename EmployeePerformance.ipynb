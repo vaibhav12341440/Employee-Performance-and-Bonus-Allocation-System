{
 "cells": [
  {
   "cell_type": "code",
   "execution_count": 1,
   "id": "08e9cadd-b293-4be9-93ec-52bb77d76887",
   "metadata": {},
   "outputs": [],
   "source": [
    "import numpy as np"
   ]
  },
  {
   "cell_type": "code",
   "execution_count": 2,
   "id": "51419f92-9e48-498c-b7a6-e3d24dcb74dd",
   "metadata": {},
   "outputs": [],
   "source": [
    "# Reading and storing data from the text files\n",
    "\n",
    "Timesheet = \"timesheet.txt\"\n",
    "Emp_Hours = {}\n",
    "with open(Timesheet, 'r') as f:\n",
    "    for line in f:\n",
    "        data = line.strip().split(',')\n",
    "        Id = data[0]\n",
    "        Hours = int(data[1])\n",
    "        if Id in Emp_Hours.keys():\n",
    "            Emp_Hours[Id] += Hours            \n",
    "        else:\n",
    "            Emp_Hours[Id]=Hours"
   ]
  },
  {
   "cell_type": "code",
   "execution_count": 3,
   "id": "5531dc9f-8365-49b5-beef-940d08e87b7c",
   "metadata": {},
   "outputs": [],
   "source": [
    "EV_Sheet = \"evaluation.txt\"        \n",
    "EVS = {}\n",
    "Pos_words = ['excellent', 'good', 'dependable', 'prompt']\n",
    "Neg_words = ['poor', 'error', 'unreliable', 'late']\n",
    "with open(EV_Sheet, \"r\") as f:\n",
    "    for line in f:\n",
    "        data = line.strip().split(\"#\")\n",
    "        Id = data[0]\n",
    "        Remark = data[1]\n",
    "        Pos = 0\n",
    "        for i in Pos_words:\n",
    "            Pos += Remark.count(i)\n",
    "        Neg = 0\n",
    "        for i in Neg_words:\n",
    "            Neg += Remark.count(i)  \n",
    "        if Neg == 0:\n",
    "            EVS[Id] = 10.0\n",
    "        else:\n",
    "            EVS[Id] = round(Pos/Neg, 2)"
   ]
  },
  {
   "cell_type": "code",
   "execution_count": 4,
   "id": "28c6c198-2054-4254-b2c8-86fa04bbb23a",
   "metadata": {},
   "outputs": [],
   "source": [
    "Sales = \"sales.txt\"\n",
    "Dir_sales = {}\n",
    "with open (Sales, \"r\") as f:\n",
    "    for line in f:\n",
    "        data = line.strip().split(',')\n",
    "        Id, sale = data\n",
    "        Dir_sales[Id] = int(sale)"
   ]
  },
  {
   "cell_type": "code",
   "execution_count": 7,
   "id": "b1bf08c8-26a6-48f8-8450-a4a41f7c0f25",
   "metadata": {},
   "outputs": [],
   "source": [
    "Emp_data = \"emp_beg_yr.txt\"\n",
    "Directors = {}\n",
    "Consultants = {}\n",
    "with open(Emp_data, \"r\") as f:\n",
    "    f.readline()\n",
    "    for line in f:\n",
    "        data = line.strip().split(',')\n",
    "        Id,LN,FN,JC,BP = data\n",
    "        if JC == \"C\":\n",
    "            if Id in Emp_Hours.keys():\n",
    "                PUR = round((Emp_Hours[Id]/2250 * 100),1)\n",
    "            else:\n",
    "                PUR = 0\n",
    "            if Id in EVS.keys():\n",
    "                ES = EVS[Id]\n",
    "            else:\n",
    "                ES = 1\n",
    "            BP = int(BP)\n",
    "            Consultants[Id] = [Id,LN,FN,BP,PUR,ES,'C']\n",
    "            \n",
    "        else:\n",
    "            if Id in Emp_Hours.keys():\n",
    "                PUR = round((Emp_Hours[Id]/2250 * 100),1)\n",
    "            else:\n",
    "                PUR = 0\n",
    "            if Id in Dir_sales.keys():\n",
    "                AS = int(Dir_sales[Id])\n",
    "            else:\n",
    "                AS = 0\n",
    "            Directors[Id] = [Id,LN,FN,BP,PUR,AS,\"D\"]"
   ]
  },
  {
   "cell_type": "code",
   "execution_count": 8,
   "id": "e9bc4534-39f8-4a82-b873-3d8429f32731",
   "metadata": {},
   "outputs": [],
   "source": [
    "#Functions \n",
    "          \n",
    "def Per_65(Dir, Con):\n",
    "    E_PUR = []\n",
    "    for i in Dir.keys():\n",
    "        E_PUR.append(Dir[i][4])\n",
    "    for i in Con.keys():\n",
    "        E_PUR.append(Con[i][4])\n",
    "    return (np.percentile(E_PUR, 65)) "
   ]
  },
  {
   "cell_type": "code",
   "execution_count": 9,
   "id": "b7c5cd37-83ba-4493-bead-23c6cf51d398",
   "metadata": {},
   "outputs": [],
   "source": [
    "def Total_bonus(Dir, Con, BR):\n",
    "    Total = 0\n",
    "    BR = BR/100\n",
    "    PUR_65 = Per_65(Dir, Con)\n",
    "    for i in Dir.keys():\n",
    "        if Dir[i][4] >= PUR_65:\n",
    "            if Dir[i][5] * BR <= 150000:\n",
    "                Total += Dir[i][5] * BR\n",
    "            else:\n",
    "                Total += 150000\n",
    "    for i in Con.keys():\n",
    "        if Con[i][4] >= PUR_65 and Con[i][5] >= 3.5:\n",
    "            if Con[i][3] * BR <= 50000:\n",
    "                Total += Con[i][3] * BR\n",
    "            else:\n",
    "                Total += 50000\n",
    "    return round(Total, 2)"
   ]
  },
  {
   "cell_type": "code",
   "execution_count": 10,
   "id": "0446e405-37ad-428f-b8e8-95e0be161422",
   "metadata": {},
   "outputs": [],
   "source": [
    "def Bonus(Dir, Con, Id, BR):\n",
    "    B =0\n",
    "    BR = BR/100\n",
    "    PUR_65 = Per_65(Dir, Con)\n",
    "    if Id in Dir.keys():\n",
    "        if Dir[Id][4] >= PUR_65:\n",
    "            if Dir[Id][5] * BR <= 150000:\n",
    "                B = round(Dir[Id][5] * BR, 2)\n",
    "            else:\n",
    "                B = 150000.00\n",
    "    if Id in Con.keys():\n",
    "        if Con[Id][4] >= PUR_65 and Con[Id][5] >= 3.5:\n",
    "            if Con[Id][3] * BR <= 50000:\n",
    "                B = round(Con[Id][3] * BR ,2)\n",
    "            else:\n",
    "                B = 50000.00\n",
    "    return B"
   ]
  },
  {
   "cell_type": "code",
   "execution_count": 11,
   "id": "1aaa3098-54ed-4106-97fb-029743f6ea1e",
   "metadata": {},
   "outputs": [],
   "source": [
    "def Bonus_Arr(Dir, Con, BR):\n",
    "    B_Arr = []\n",
    "    BR = BR/100\n",
    "    PUR_65 = Per_65(Dir, Con)\n",
    "    for Id in Dir.keys():\n",
    "        if Dir[Id][4] >= PUR_65:\n",
    "            if Dir[Id][5] * BR <= 150000:\n",
    "                B_Arr.append(round(Dir[Id][5] * BR, 2))\n",
    "            else:\n",
    "                B_Arr.append(150000.00)\n",
    "    for Id in Con.keys():\n",
    "        if Con[Id][4] >= PUR_65 and Con[Id][5] >= 3.5:\n",
    "            if Con[Id][3] * BR <= 50000:\n",
    "                B_Arr.append(round(Con[Id][3] * BR ,2))\n",
    "            else:\n",
    "                B_Arr.append( 50000.00)\n",
    "    return B_Arr"
   ]
  },
  {
   "cell_type": "code",
   "execution_count": 12,
   "id": "c528f64b-b3b1-44f3-94d0-7eb36d9afcae",
   "metadata": {},
   "outputs": [],
   "source": [
    "def Emp_info(Dir, Con, BR, ID):\n",
    "    if ID in Dir.keys():\n",
    "        print(\"ID:\", ID)\n",
    "        print(\"Director:\" ,Dir[ID][2], Dir[ID][1])\n",
    "        print(\"Utilization:\", Dir[ID][4])\n",
    "        print(\"New sales: $\"+ str(Dir[ID][5]) )\n",
    "        print(\"Base pay: $\" + str(Dir[ID][3]))\n",
    "        print(\"Bonus: $\" + str(Bonus(Directors, Consultants,ID, BR)))\n",
    "    elif ID in Con.keys():\n",
    "        print(\"ID:\", ID)\n",
    "        print(\"Consultant:\" ,Con[ID][2], Con[ID][1])\n",
    "        print(\"Utilization:\", Con[ID][4])\n",
    "        print(\"Evaluation Score:\",Con[ID][5]) \n",
    "        print(\"Base pay: $\" + str(Con[ID][3]))\n",
    "        print(\"Bonus: $\" + str(Bonus(Directors, Consultants,ID, BR)))"
   ]
  },
  {
   "cell_type": "code",
   "execution_count": 15,
   "id": "217206d6-03e7-4b60-9458-48b4c9e10124",
   "metadata": {},
   "outputs": [],
   "source": [
    "def stat(data):\n",
    "    num_points = len(data)\n",
    "    min_value = np.min(data)\n",
    "    max_value = np.max(data)\n",
    "    median_value = np.median(data)\n",
    "    mean_value = round(np.mean(data),2)\n",
    "    std_dev = round(np.std(data),2)\n",
    "    \n",
    "    print(\"Number of data points:\", num_points)\n",
    "    print(\"Minimum:\", min_value)\n",
    "    print(\"Maximum:\", max_value)\n",
    "    print(\"Median:\", median_value)\n",
    "    print(\"Mean:\", mean_value)\n",
    "    print(\"Standard deviation:\", std_dev)"
   ]
  },
  {
   "cell_type": "code",
   "execution_count": 17,
   "id": "b478309e-611f-4d53-8bb2-9e48cef6cf3c",
   "metadata": {},
   "outputs": [
    {
     "name": "stdin",
     "output_type": "stream",
     "text": [
      "Enter bonus rate:  12\n"
     ]
    },
    {
     "name": "stdout",
     "output_type": "stream",
     "text": [
      "Total Bonus value for this rate is:  2051513.28\n"
     ]
    },
    {
     "name": "stdin",
     "output_type": "stream",
     "text": [
      "Do you want to finalize this rate? (yes/no) yes\n"
     ]
    }
   ],
   "source": [
    "while True:\n",
    "    BR = float(input(\"Enter bonus rate: \")) \n",
    "    print(\"Total Bonus value for this rate is: \",Total_bonus(Directors, Consultants, BR))\n",
    "    if (input(\"Do you want to finalize this rate? (yes/no)\").lower() == 'yes' ):\n",
    "        break\n",
    "\n",
    "valid_Id = [*Directors.keys()] + [*Consultants.keys()]\n",
    "valid_id_int = [int(x) for x in valid_Id]\n",
    "valid_id_int.sort()\n",
    "file = open(\"emp_end_yr.txt\", \"w\")\n",
    "file.write(\"ID,LastName,FirstName,JobCode,BasePay,Utilization,Evaluation/Sales,Bonus\\n\")\n",
    "for i in valid_id_int:\n",
    "    Id = str(i)\n",
    "    if Id in Directors.keys():\n",
    "        emp = Directors[Id]\n",
    "    else:\n",
    "        emp = Consultants[Id]\n",
    "    text = emp[0]+','+emp[1]+','+emp[2]+','+emp[6]+','+str(emp[3])+','+str(emp[4])+','+str(emp[5])+\"\\n\"\n",
    "    file.write(text)\n",
    "file.close()"
   ]
  },
  {
   "cell_type": "code",
   "execution_count": 18,
   "id": "60bfb152-e6eb-4c73-80b7-ca8f98adf28f",
   "metadata": {},
   "outputs": [
    {
     "name": "stdin",
     "output_type": "stream",
     "text": [
      "\n",
      "Do you want to look up for employee info? (yes/no) yes\n",
      "Enter employee ID:  12\n",
      "\n",
      "Do you want to look up for employee info? (yes/no) yes\n",
      "Enter employee ID:  1\n",
      "\n",
      "Do you want to look up for employee info? (yes/no) no\n"
     ]
    }
   ],
   "source": [
    "# 2 \n",
    "    \n",
    "while True:\n",
    "    if (input(\"\\nDo you want to look up for employee info? (yes/no)\").lower() == 'yes'):\n",
    "        ID = input(\"Enter employee ID: \")\n",
    "        Emp_info(Directors, Consultants, BR, ID)\n",
    "    else:\n",
    "        break"
   ]
  },
  {
   "cell_type": "code",
   "execution_count": 19,
   "id": "4ae04160-b9e0-4471-9a4a-a897205d7d44",
   "metadata": {},
   "outputs": [
    {
     "name": "stdout",
     "output_type": "stream",
     "text": [
      "\n",
      "For Utilization rate:\n",
      "Number of data points: 172\n",
      "Minimum: 0.0\n",
      "Maximum: 120.1\n",
      "Median: 91.1\n",
      "Mean: 87.6\n",
      "Standard deviation: 19.79\n",
      "\n",
      "For Evaluation score:\n",
      "Number of data points: 126\n",
      "Minimum: 0.0\n",
      "Maximum: 10.0\n",
      "Median: 4.5\n",
      "Mean: 5.43\n",
      "Standard deviation: 4.3\n",
      "\n",
      "For Sales:\n",
      "Number of data points: 36\n",
      "Minimum: 82000\n",
      "Maximum: 1973000\n",
      "Median: 1188500.0\n",
      "Mean: 1117750.0\n",
      "Standard deviation: 601233.93\n",
      "\n",
      "For Bonus:\n",
      "Number of data points: 30\n",
      "Minimum: 7682.16\n",
      "Maximum: 150000.0\n",
      "Median: 20756.46\n",
      "Mean: 68383.78\n",
      "Standard deviation: 62928.63\n"
     ]
    }
   ],
   "source": [
    "# 3\n",
    "    \n",
    "PUR = []\n",
    "for i in Directors.keys():\n",
    "    PUR.append(Directors[i][4])\n",
    "for i in Consultants.keys():\n",
    "    PUR.append(Consultants[i][4])\n",
    "    \n",
    "print(\"\\nFor Utilization rate:\")\n",
    "stat(PUR)\n",
    "print(\"\\nFor Evaluation score:\")\n",
    "stat([*EVS.values()])\n",
    "print(\"\\nFor Sales:\")\n",
    "stat([*Dir_sales.values()])\n",
    "print(\"\\nFor Bonus:\")\n",
    "stat(Bonus_Arr(Directors, Consultants, BR))   "
   ]
  },
  {
   "cell_type": "code",
   "execution_count": 20,
   "id": "8a4d5195-2bad-497d-8bbf-ebcf7af5dcd1",
   "metadata": {},
   "outputs": [
    {
     "name": "stdout",
     "output_type": "stream",
     "text": [
      "\n",
      "Consultant with highest utilization rate: \n",
      "ID: 273\n",
      "Consultant: Sandra Thompson\n",
      "Utilization: 120.1\n",
      "Evaluation Score: 10.0\n",
      "Base pay: $67689\n",
      "Bonus: $8122.68\n",
      "\n",
      "Director with highest sales: \n",
      "ID: 104\n",
      "Director: Thomas Hardy\n",
      "Utilization: 99.4\n",
      "New sales: $1973000\n",
      "Base pay: $337573\n",
      "Bonus: $150000.0\n"
     ]
    }
   ],
   "source": [
    "# 4\n",
    "\n",
    "Max_PUR = np.max(PUR)\n",
    "Max_Sales = np.max([*Dir_sales.values()])\n",
    "\n",
    "for i in Directors.keys():\n",
    "    if Directors[i][4] == Max_PUR:\n",
    "        print(\"\\nDirector with highest utilization rate: \")\n",
    "        Emp_info(Directors, Consultants, BR, i)\n",
    "\n",
    "for i in Consultants.keys():\n",
    "    if Consultants[i][4] == Max_PUR:\n",
    "        print(\"\\nConsultant with highest utilization rate: \")\n",
    "        Emp_info(Directors, Consultants, BR, i)\n",
    "            \n",
    "for i in Directors.keys():\n",
    "    if Directors[i][5] == Max_Sales:\n",
    "        print(\"\\nDirector with highest sales: \")\n",
    "        Emp_info(Directors, Consultants, BR, i)    \n",
    "    "
   ]
  },
  {
   "cell_type": "code",
   "execution_count": 21,
   "id": "38cbb4f3-9c5e-40d4-969e-ead1e74e227e",
   "metadata": {},
   "outputs": [
    {
     "name": "stdout",
     "output_type": "stream",
     "text": [
      "\n",
      "IDs of consultants with poor performance: \n",
      "['216']\n"
     ]
    }
   ],
   "source": [
    "# 5\n",
    "\n",
    "Threshold_UR = np.mean(PUR) - np.std(PUR)\n",
    "Poor_Consultants = []\n",
    "\n",
    "for i in Consultants.keys():\n",
    "   if Consultants[i][5] < 1 and Threshold_UR > Consultants[i][4]:\n",
    "       Poor_Consultants.append(i)\n",
    "print(\"\\nIDs of consultants with poor performance: \")        \n",
    "print(Poor_Consultants)"
   ]
  },
  {
   "cell_type": "code",
   "execution_count": 24,
   "id": "1cbdec41-594c-4b1a-adb1-ef63d050240e",
   "metadata": {},
   "outputs": [],
   "source": [
    "# 6 \n",
    "\n",
    "error_log = open('error_log.txt', 'w')\n",
    "\n",
    "\n",
    "f = open(Timesheet, 'r') \n",
    "error_log.write(\"Error log of Timesheet file:\\n\")\n",
    "for line in f:\n",
    "    data = line.strip().split(',')\n",
    "    if data[0] not in valid_Id:\n",
    "        error_log.write(data[0]+'\\n')\n",
    "f.close()\n",
    " \n",
    "    \n",
    "f = open(EV_Sheet, 'r') \n",
    "error_log.write(\"\\nError log of Evaluation file:\\n\")\n",
    "\n",
    "for line in f:\n",
    "    data = line.strip().split('#')\n",
    "    if data[0] not in valid_Id:\n",
    "        error_log.write(data[0]+\"\\n\")\n",
    "f.close()  \n",
    "  \n",
    "f = open(Sales, 'r')\n",
    "error_log.write(\"\\nError log of Sales file:\\n\")\n",
    " \n",
    "for line in f:\n",
    "    data = line.strip().split(',')\n",
    "    if data[0] not in valid_Id:\n",
    "        error_log.write(data[0]+'\\n')\n",
    "f.close()   \n",
    "error_log.close()\n"
   ]
  }
 ],
 "metadata": {
  "kernelspec": {
   "display_name": "Python 3 (ipykernel)",
   "language": "python",
   "name": "python3"
  },
  "language_info": {
   "codemirror_mode": {
    "name": "ipython",
    "version": 3
   },
   "file_extension": ".py",
   "mimetype": "text/x-python",
   "name": "python",
   "nbconvert_exporter": "python",
   "pygments_lexer": "ipython3",
   "version": "3.12.0"
  }
 },
 "nbformat": 4,
 "nbformat_minor": 5
}
